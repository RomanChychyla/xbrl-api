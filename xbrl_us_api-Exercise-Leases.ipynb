{
 "cells": [
  {
   "cell_type": "markdown",
   "metadata": {},
   "source": [
    "# XBRL US API - Exercise - Lease Liability \n",
    "This notebook contains example Python code to use the XBRL US Application Programming Interface (API) (https://xbrl.us/home/use/xbrl-api/)    \n",
    "  \n",
    "**Made by:** [Ties de Kok](https://www.tiesdekok.com), [Beth Blankespoor](https://foster.uw.edu/faculty-research/directory/elizabeth-blankespoor/), and [Roman Chychyla](https://people.miami.edu/profile/rxc303@miami.edu)"
   ]
  },
  {
   "cell_type": "markdown",
   "metadata": {},
   "source": [
    "## API documentation"
   ]
  },
  {
   "cell_type": "markdown",
   "metadata": {},
   "source": [
    "The documentation on XBRL US API is available here:\n",
    "\n",
    "https://xbrlus.github.io/xbrl-api/#/Facts/getFactDetails"
   ]
  },
  {
   "cell_type": "markdown",
   "metadata": {
    "tags": []
   },
   "source": [
    "## Imports\n",
    "\n",
    "First, import (load) supporting python libraries"
   ]
  },
  {
   "cell_type": "code",
   "execution_count": 1,
   "metadata": {},
   "outputs": [],
   "source": [
    "import os, re, sys # to work with operating system and text \n",
    "import json # to read a popular data representation format, JSON\n",
    "import requests # to handle HTTP (web) requests\n",
    "import pandas as pd # for tabular manipulation and computation\n",
    "import numpy as np # for numerical computations\n",
    "import getpass # to (interactively) request password input for a user "
   ]
  },
  {
   "cell_type": "markdown",
   "metadata": {},
   "source": [
    "## Generating an access token\n",
    "\n",
    "To access XBRL US API, we need to use an access token (for user authentication purposes). Access tokens can be requested at XBRL US website (after registration).\n",
    "\n",
    "For this session we will create a temporary access token (for demo purposes only). Input your email address when asked. This access token will expire after 60 minutes."
   ]
  },
  {
   "cell_type": "code",
   "execution_count": 2,
   "metadata": {},
   "outputs": [],
   "source": [
    "CREDENTIAL_TYPE = 'TEMP'"
   ]
  },
  {
   "cell_type": "markdown",
   "metadata": {},
   "source": [
    "Alternatively, you can obtain your own credentials here: https://xbrl.us/home/use/xbrl-api-community/#provisioning\n",
    "\n",
    "After that, if you use this script on your own computer, we recommend using the JSON file as described in option (a) below. If you are using Binder, we recommend using option (b).\n",
    "\n",
    ">**Option a:**\n",
    ">1. Update 'login_cred.json' with your `client_id`, `client_secret`, `username`, and `password`;\n",
    ">2. Set `CREDENTIAL_TYPE` to `LOCAL`;\n",
    ">3. Input your password when asked.\n",
    "\n",
    ">**Option b:**\n",
    ">1. Set `CREDENTIAL_TYPE` to `CLOUD`;\n",
    ">2. Input your details when asked,\n",
    "\n"
   ]
  },
  {
   "cell_type": "code",
   "execution_count": 3,
   "metadata": {},
   "outputs": [],
   "source": [
    "# the following code generates an access token for XBRL US API\n",
    "\n",
    "if CREDENTIAL_TYPE == 'TEMP':\n",
    "    user_email = input(prompt=\"Please type your email address here: \")\n",
    "    access_token = requests.get('https://tdekok-xbrlapi.builtwithdark.com/gettoken?platform=aaa-{}'.format(user_email)).text.replace('\"', \"\")\n",
    "elif CREDENTIAL_TYPE in ['LOCAL', 'CLOUD']:\n",
    "    endpoint = 'https://api.xbrl.us'\n",
    "    endpoint_auth = endpoint + '/oauth2/token'\n",
    "    \n",
    "    if CREDENTIAL_TYPE == 'LOCAL':\n",
    "        with open('login_cred.json', 'r') as f:\n",
    "            login_cred = json.loads(f.read())\n",
    "            client_id = login_cred['client_id']\n",
    "            client_secret = login_cred['client_secret']\n",
    "            username = login_cred['username']\n",
    "            password = login_cred['password']\n",
    "            \n",
    "    else:\n",
    "        client_id = input(prompt='Please input your client id here:')\n",
    "        client_secret = getpass.getpass(prompt = 'Please input your client secret here:')\n",
    "        username = input(prompt='Please input your username here:')\n",
    "        \n",
    "#     password = getpass.getpass(prompt = 'Password: ')\n",
    "    \n",
    "    body_auth = {'grant_type' : 'password', \n",
    "                'client_id' : client_id, \n",
    "                'client_secret' : client_secret, \n",
    "                'username' : username,\n",
    "                'password' : password,\n",
    "                'platform' : 'uw-ipynb'}\n",
    "    res = requests.post(endpoint_auth, data=body_auth)\n",
    "    auth_json = res.json()\n",
    "    access_token = auth_json['access_token']\n",
    "else:\n",
    "    print('Invalid credential type! Use TEMP, LOCAL, or CLOUD. See the instructions above.')"
   ]
  },
  {
   "cell_type": "markdown",
   "metadata": {},
   "source": [
    "## Making an API Query\n",
    "\n",
    "To request XBRL data from XBRL US, we need to create an API query that specified information to be retrieved.\n",
    "\n",
    "The Python function below generates a query to XBRL US and returns results in a tabular format. The function has the following input arguments:\n",
    "\n",
    "- access_token - the token we generated in the previous step;\n",
    "- firm_ciks - a list of company central index keys (CIKs);\n",
    "- years - a list of data years (time period);\n",
    "- report_types - a list of report types to consider (e.g., 10-K or 10-Q);\n",
    "- get extensions - has to be set to either:\n",
    "    - 'FALSE' - output XBRL elements that are not extensions;\n",
    "    - 'TRUE' - output only extension XBRL. The argument xbrl_elements list will be ignored;\n",
    "- xbrl_elements - a list of XBRL elements (e.g., NetIncomeLoss for net income). This list will be ignored if get_extensions is set to 'TRUE';\n",
    "- with_dimensions - has to be set to either:\n",
    "    - 'FALSE' - output XBRL elements *without* dimensions only;\n",
    "    - 'TRUE' - output XBRL elements *with* dimensions only;\n",
    "    - 'ALL' - output XBRL elements *with* and *without* dimensions;"
   ]
  },
  {
   "cell_type": "code",
   "execution_count": 4,
   "metadata": {},
   "outputs": [],
   "source": [
    "def execute_query(access_token, firm_ciks, years, report_types, get_extensions, xbrl_elements, with_dimensions):\n",
    "    \n",
    "    # below is fields (variable) to be output by XBRL US API. \n",
    "    # this list can be modified if other/additional information is needed\n",
    "    # see XBRL US API documentation for a list of all possible fields\n",
    "    fields = ['entity.cik',\n",
    "         'entity.name.sort(ASC)',\n",
    "         'period.fiscal-year',\n",
    "         'report.document-type',\n",
    "         'report.filing-date',\n",
    "         'concept.local-name',\n",
    "         'fact.value',\n",
    "         'dimensions.count', \n",
    "         'dimension.local-name.sort(ASC)',\n",
    "         'member.local-name',\n",
    "         'dts.id',\n",
    "         'fact.id',\n",
    "         'fact.has-dimensions'\n",
    "         'period.instant',\n",
    "         'concept.id',     \n",
    "         'unit',\n",
    "         'fact.decimals',\n",
    "         'dimension.namespace',\n",
    "         'member.namespace',\n",
    "         ]\n",
    "    \n",
    "    search_endpoint = 'https://api.xbrl.us/api/v1/fact/search'\n",
    "\n",
    "\n",
    "    params = {  \n",
    "         'period.fiscal-period': 'Y',\n",
    "         'period.fiscal-year': ','.join(years),\n",
    "         'unit': 'USD',\n",
    "         'entity.cik': ','.join(firm_ciks),\n",
    "         'report.document-type': ','.join(report_types)\n",
    "         }  \n",
    "    \n",
    "    if get_extensions == 'TRUE':\n",
    "        params['concept.is-base'] = 'FALSE'\n",
    "    else:\n",
    "        params['concept.local-name'] =  ','.join(xbrl_elements)\n",
    "    \n",
    "    if with_dimensions == 'ALL':\n",
    "        dimension_options = ['TRUE', 'FALSE']\n",
    "    else:\n",
    "        dimension_options = [with_dimensions]\n",
    "\n",
    "    all_res_list = []\n",
    "    for dimensions_param in dimension_options:\n",
    "        print('Getting the data for: \"fact.has-dimensions\" = {}'.format(dimensions_param))\n",
    "        ### Every request will return a max of 2000 results. So we loop until all results are retrieved. \n",
    "        done_retrieving_all_results = False\n",
    "        offset = 0\n",
    "        while not done_retrieving_all_results:\n",
    "            params['fact.has-dimensions'] = dimensions_param\n",
    "            params['fields'] = ','.join(fields) + ',fact.offset({})'.format(offset) \n",
    "            res = requests.get(search_endpoint, params=params, headers={'Authorization' : 'Bearer {}'.format(access_token)})\n",
    "\n",
    "            ## Interpret as JSON\n",
    "            res_json = res.json()\n",
    "\n",
    "            ## Get the results\n",
    "            ### Retrieve the data list\n",
    "            res_list = res_json['data']\n",
    "\n",
    "            ### Add to the results\n",
    "            all_res_list += res_list\n",
    "\n",
    "            ## Pagination check\n",
    "            paging_dict = res_json['paging']\n",
    "            if paging_dict['count'] >= 2000:\n",
    "                offset += paging_dict['count']\n",
    "            else:\n",
    "                done_retrieving_all_results = True\n",
    "\n",
    "    ## convert to a DataFrame\n",
    "    res_df = pd.DataFrame(all_res_list)\n",
    "    ## remove duplicates; sometimes the same item is reported multiple times throughout the document\n",
    "    res_df.drop_duplicates(subset = ['entity.name','period.fiscal-year', 'concept.local-name', 'dimension.local-name', 'member.local-name', 'fact.value'], inplace = True)\n",
    "    ## sort data\n",
    "    res_df = res_df.sort_values(by=['entity.name','dts.id','concept.local-name','dimension.local-name']).reset_index(drop = True)\n",
    "    ## reorder table columns\n",
    "    first_columns = ['entity.name', 'period.fiscal-year', 'report.filing-date', 'concept.local-name', 'fact.value', 'unit','dimension.local-name', 'member.local-name','dimensions.count']\n",
    "    columns = first_columns + [c for c in res_df.columns if c not in first_columns]\n",
    "    res_df = res_df[columns]\n",
    "    print('\\nNumber of results that meet the criteria: {}'.format(len(res_df)))\n",
    "\n",
    "    return res_df"
   ]
  },
  {
   "cell_type": "markdown",
   "metadata": {},
   "source": [
    "## Exercise: Getting Operating and Finance Lease Liability Data"
   ]
  },
  {
   "cell_type": "markdown",
   "metadata": {},
   "source": [
    "### Define the companies you'd like"
   ]
  },
  {
   "cell_type": "code",
   "execution_count": 5,
   "metadata": {},
   "outputs": [],
   "source": [
    "firm_ciks =     [\n",
    "                 '0000789019', ## Microsoft (MSFT)\n",
    "                 '0001065280', ## Netflix (NFLX)\n",
    "                 '0000732717', ## AT&T (T)\n",
    "                ]"
   ]
  },
  {
   "cell_type": "markdown",
   "metadata": {},
   "source": [
    "### Define the years you'd like"
   ]
  },
  {
   "cell_type": "code",
   "execution_count": 6,
   "metadata": {},
   "outputs": [],
   "source": [
    "years = ['2020']"
   ]
  },
  {
   "cell_type": "markdown",
   "metadata": {},
   "source": [
    "### Specify the report types that you want"
   ]
  },
  {
   "cell_type": "code",
   "execution_count": 7,
   "metadata": {},
   "outputs": [],
   "source": [
    "report_types = ['10-K', '10-K/A']"
   ]
  },
  {
   "cell_type": "markdown",
   "metadata": {},
   "source": [
    "### Specify whether to output extension XBRL elements"
   ]
  },
  {
   "cell_type": "code",
   "execution_count": 8,
   "metadata": {},
   "outputs": [],
   "source": [
    "get_extensions = 'FALSE'"
   ]
  },
  {
   "cell_type": "markdown",
   "metadata": {},
   "source": [
    "### Define the XBRL elements (tags) you'd like \n",
    "\n",
    "Operating and Finance Lease Liability are represented by *OperatingLeaseLiability* and *FinanceLeaseLiability* concepts, resepectively, in the FASB's US GAAP Financial Reporting Taxonomy."
   ]
  },
  {
   "cell_type": "code",
   "execution_count": 9,
   "metadata": {},
   "outputs": [],
   "source": [
    "xbrl_elements = [\n",
    "     'OperatingLeaseLiability',\n",
    "     'FinanceLeaseLiability'\n",
    "                ]"
   ]
  },
  {
   "cell_type": "markdown",
   "metadata": {},
   "source": [
    "### Define the fields you would like returned\n",
    "\n",
    "Below, we choose fields (variable) to be output by XBRL US API. This list can be modified if other/additional information is needed. See XBRL US API [documentation](https://xbrlus.github.io/xbrl-api/#/fact/getFactDetails) for the complete list of available fields."
   ]
  },
  {
   "cell_type": "markdown",
   "metadata": {},
   "source": [
    "### Specify if you want dimensions, no dimension, or all values"
   ]
  },
  {
   "cell_type": "code",
   "execution_count": 10,
   "metadata": {},
   "outputs": [],
   "source": [
    "with_dimensions = 'FALSE'  ## TRUE for require dimensions, FALSE for no dimensions, ALL for all values"
   ]
  },
  {
   "cell_type": "markdown",
   "metadata": {},
   "source": [
    "### Execute query\n",
    "\n",
    "Finally, we can execute an API query and save results to *res_df* pandas dataframe."
   ]
  },
  {
   "cell_type": "code",
   "execution_count": 11,
   "metadata": {},
   "outputs": [
    {
     "name": "stdout",
     "output_type": "stream",
     "text": [
      "Getting the data for: \"fact.has-dimensions\" = FALSE\n",
      "\n",
      "Number of results that meet the criteria: 5\n"
     ]
    }
   ],
   "source": [
    "res_df = execute_query(access_token, firm_ciks, years, report_types, get_extensions, xbrl_elements, with_dimensions)"
   ]
  },
  {
   "cell_type": "markdown",
   "metadata": {},
   "source": [
    "### Display results"
   ]
  },
  {
   "cell_type": "code",
   "execution_count": 12,
   "metadata": {
    "tags": []
   },
   "outputs": [
    {
     "data": {
      "text/html": [
       "<div>\n",
       "<style scoped>\n",
       "    .dataframe tbody tr th:only-of-type {\n",
       "        vertical-align: middle;\n",
       "    }\n",
       "\n",
       "    .dataframe tbody tr th {\n",
       "        vertical-align: top;\n",
       "    }\n",
       "\n",
       "    .dataframe thead th {\n",
       "        text-align: right;\n",
       "    }\n",
       "</style>\n",
       "<table border=\"1\" class=\"dataframe\">\n",
       "  <thead>\n",
       "    <tr style=\"text-align: right;\">\n",
       "      <th></th>\n",
       "      <th>entity.name</th>\n",
       "      <th>period.fiscal-year</th>\n",
       "      <th>report.filing-date</th>\n",
       "      <th>concept.local-name</th>\n",
       "      <th>fact.value</th>\n",
       "      <th>unit</th>\n",
       "      <th>dimension.local-name</th>\n",
       "      <th>member.local-name</th>\n",
       "      <th>dimensions.count</th>\n",
       "      <th>report.document-type</th>\n",
       "      <th>dts.id</th>\n",
       "      <th>concept.id</th>\n",
       "    </tr>\n",
       "  </thead>\n",
       "  <tbody>\n",
       "    <tr>\n",
       "      <th>0</th>\n",
       "      <td>AT&amp;T INC.</td>\n",
       "      <td>2020</td>\n",
       "      <td>2021-02-25</td>\n",
       "      <td>FinanceLeaseLiability</td>\n",
       "      <td>2036000000</td>\n",
       "      <td>USD</td>\n",
       "      <td></td>\n",
       "      <td></td>\n",
       "      <td>0</td>\n",
       "      <td>10-K</td>\n",
       "      <td>442895</td>\n",
       "      <td>24950278</td>\n",
       "    </tr>\n",
       "    <tr>\n",
       "      <th>1</th>\n",
       "      <td>AT&amp;T INC.</td>\n",
       "      <td>2020</td>\n",
       "      <td>2021-02-25</td>\n",
       "      <td>OperatingLeaseLiability</td>\n",
       "      <td>25739000000</td>\n",
       "      <td>USD</td>\n",
       "      <td></td>\n",
       "      <td></td>\n",
       "      <td>0</td>\n",
       "      <td>10-K</td>\n",
       "      <td>442895</td>\n",
       "      <td>24957588</td>\n",
       "    </tr>\n",
       "    <tr>\n",
       "      <th>2</th>\n",
       "      <td>MICROSOFT CORPORATION</td>\n",
       "      <td>2020</td>\n",
       "      <td>2020-07-31</td>\n",
       "      <td>FinanceLeaseLiability</td>\n",
       "      <td>9496000000</td>\n",
       "      <td>USD</td>\n",
       "      <td></td>\n",
       "      <td></td>\n",
       "      <td>0</td>\n",
       "      <td>10-K</td>\n",
       "      <td>400915</td>\n",
       "      <td>27971874</td>\n",
       "    </tr>\n",
       "    <tr>\n",
       "      <th>3</th>\n",
       "      <td>MICROSOFT CORPORATION</td>\n",
       "      <td>2020</td>\n",
       "      <td>2020-07-31</td>\n",
       "      <td>OperatingLeaseLiability</td>\n",
       "      <td>9287000000</td>\n",
       "      <td>USD</td>\n",
       "      <td></td>\n",
       "      <td></td>\n",
       "      <td>0</td>\n",
       "      <td>10-K</td>\n",
       "      <td>400915</td>\n",
       "      <td>27974626</td>\n",
       "    </tr>\n",
       "    <tr>\n",
       "      <th>4</th>\n",
       "      <td>Netflix, Inc.</td>\n",
       "      <td>2020</td>\n",
       "      <td>2021-01-28</td>\n",
       "      <td>OperatingLeaseLiability</td>\n",
       "      <td>2201853000</td>\n",
       "      <td>USD</td>\n",
       "      <td></td>\n",
       "      <td></td>\n",
       "      <td>0</td>\n",
       "      <td>10-K</td>\n",
       "      <td>435651</td>\n",
       "      <td>27974626</td>\n",
       "    </tr>\n",
       "  </tbody>\n",
       "</table>\n",
       "</div>"
      ],
      "text/plain": [
       "             entity.name  period.fiscal-year report.filing-date  \\\n",
       "0              AT&T INC.                2020         2021-02-25   \n",
       "1              AT&T INC.                2020         2021-02-25   \n",
       "2  MICROSOFT CORPORATION                2020         2020-07-31   \n",
       "3  MICROSOFT CORPORATION                2020         2020-07-31   \n",
       "4          Netflix, Inc.                2020         2021-01-28   \n",
       "\n",
       "        concept.local-name   fact.value unit dimension.local-name  \\\n",
       "0    FinanceLeaseLiability   2036000000  USD                        \n",
       "1  OperatingLeaseLiability  25739000000  USD                        \n",
       "2    FinanceLeaseLiability   9496000000  USD                        \n",
       "3  OperatingLeaseLiability   9287000000  USD                        \n",
       "4  OperatingLeaseLiability   2201853000  USD                        \n",
       "\n",
       "  member.local-name  dimensions.count report.document-type  dts.id  concept.id  \n",
       "0                                   0                 10-K  442895    24950278  \n",
       "1                                   0                 10-K  442895    24957588  \n",
       "2                                   0                 10-K  400915    27971874  \n",
       "3                                   0                 10-K  400915    27974626  \n",
       "4                                   0                 10-K  435651    27974626  "
      ]
     },
     "execution_count": 12,
     "metadata": {},
     "output_type": "execute_result"
    }
   ],
   "source": [
    "#choose which columns to hide\n",
    "columns_to_hide = ['entity.cik', 'fact.id', 'fact.decimals', 'dimension.namespace', 'member.namespace']\n",
    "columns_to_show = [column for column in res_df.columns if column not in columns_to_hide]\n",
    "\n",
    "#display the results\n",
    "res_df[columns_to_show]"
   ]
  },
  {
   "cell_type": "markdown",
   "metadata": {},
   "source": [
    "### Send output to csv\n",
    "\n",
    "Python's Pandas library provides simple means to save Pandas tables (data frames) to Excel, Stata, comma values separated (CSV), and other data formats."
   ]
  },
  {
   "cell_type": "code",
   "execution_count": 14,
   "metadata": {},
   "outputs": [],
   "source": [
    "res_df.to_csv('XBRL_LeaseLiability.csv')     \n",
    "\n",
    "## If running in Binder, click on the Jupyter icon/name in the upper left corner to see your files, \n",
    "## select the file you want, and click Download."
   ]
  },
  {
   "cell_type": "code",
   "execution_count": null,
   "metadata": {},
   "outputs": [],
   "source": []
  }
 ],
 "metadata": {
  "kernelspec": {
   "display_name": "Python 3",
   "language": "python",
   "name": "python3"
  },
  "language_info": {
   "codemirror_mode": {
    "name": "ipython",
    "version": 3
   },
   "file_extension": ".py",
   "mimetype": "text/x-python",
   "name": "python",
   "nbconvert_exporter": "python",
   "pygments_lexer": "ipython3",
   "version": "3.7.6"
  }
 },
 "nbformat": 4,
 "nbformat_minor": 4
}
