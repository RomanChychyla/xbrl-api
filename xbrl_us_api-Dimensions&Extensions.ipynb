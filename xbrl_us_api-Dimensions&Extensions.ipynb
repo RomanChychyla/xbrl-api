{
 "cells": [
  {
   "cell_type": "markdown",
   "metadata": {},
   "source": [
    "# XBRL US API - Working with Dimensions and Extension - Python Example  \n",
    "This notebook contains example Python code to use the XBRL US Application Programming Interface (API) (https://xbrl.us/home/use/xbrl-api/)    \n",
    "  \n",
    "**Made by:** [Ties de Kok](https://www.tiesdekok.com), [Beth Blankespoor](https://foster.uw.edu/faculty-research/directory/elizabeth-blankespoor/), and [Roman Chychyla](https://people.miami.edu/profile/rxc303@miami.edu)"
   ]
  },
  {
   "cell_type": "markdown",
   "metadata": {},
   "source": [
    "## API documentation"
   ]
  },
  {
   "cell_type": "markdown",
   "metadata": {},
   "source": [
    "The documentation on XBRL US API is available here:\n",
    "\n",
    "https://xbrlus.github.io/xbrl-api/#/Facts/getFactDetails"
   ]
  },
  {
   "cell_type": "markdown",
   "metadata": {
    "tags": []
   },
   "source": [
    "## Imports\n",
    "\n",
    "First, import (load) supporting python libraries"
   ]
  },
  {
   "cell_type": "code",
   "execution_count": null,
   "metadata": {},
   "outputs": [],
   "source": [
    "import os, re, sys # to work with operating system and text \n",
    "import json # to read a popular data representation format, JSON\n",
    "import requests # to handle HTTP (web) requests\n",
    "import pandas as pd # for tabular manipulation and computation\n",
    "import numpy as np # for numerical computations\n",
    "import getpass # to (interactively) request password input for a user "
   ]
  },
  {
   "cell_type": "markdown",
   "metadata": {},
   "source": [
    "## Generating an access token\n",
    "\n",
    "Similarly to the first example, to access XBRL US API, we need to use an access token (for user authentication purposes). Access tokens can be requested at XBRL US website (after registration).\n",
    "\n",
    "For this session we will create a temporary access token (for demo purposes only). Input your email address when asked. This access token will expire after 60 minutes."
   ]
  },
  {
   "cell_type": "code",
   "execution_count": null,
   "metadata": {},
   "outputs": [],
   "source": [
    "CREDENTIAL_TYPE = 'TEMP'"
   ]
  },
  {
   "cell_type": "markdown",
   "metadata": {},
   "source": [
    "Alternatively, you can obtain your own credentials here: https://xbrl.us/home/use/xbrl-api-community/#provisioning\n",
    "\n",
    "After that, if you use this script on your own computer, we recommend using the JSON file as described in option (a) below. If you are using Binder, we recommend using option (b).\n",
    "\n",
    ">**Option a:**\n",
    ">1. Update 'login_cred.json' with your `client_id`, `client_secret`, `username`, and `password`;\n",
    ">2. Set `CREDENTIAL_TYPE` to `LOCAL`;\n",
    ">3. Input your password when asked.\n",
    "\n",
    ">**Option b:**\n",
    ">1. Set `CREDENTIAL_TYPE` to `CLOUD`;\n",
    ">2. Input your details when asked,\n",
    "\n"
   ]
  },
  {
   "cell_type": "code",
   "execution_count": null,
   "metadata": {},
   "outputs": [],
   "source": [
    "# the following code generates an access token\n",
    "\n",
    "if CREDENTIAL_TYPE == 'TEMP':\n",
    "    user_email = input(prompt=\"Please type your email address here: \")\n",
    "    access_token = requests.get('https://tdekok-xbrlapi.builtwithdark.com/gettoken?platform=aaa-{}'.format(user_email)).text.replace('\"', \"\")\n",
    "elif CREDENTIAL_TYPE in ['LOCAL', 'CLOUD']:\n",
    "    endpoint = 'https://api.xbrl.us'\n",
    "    endpoint_auth = endpoint + '/oauth2/token'\n",
    "    \n",
    "    if CREDENTIAL_TYPE == 'LOCAL':\n",
    "        with open('login_cred.json', 'r') as f:\n",
    "            login_cred = json.loads(f.read())\n",
    "            client_id = login_cred['client_id']\n",
    "            client_secret = login_cred['client_secret']\n",
    "            username = login_cred['username']\n",
    "            password = login_cred['password']\n",
    "            \n",
    "    else:\n",
    "        client_id = input(prompt='Please input your client id here:')\n",
    "        client_secret = getpass.getpass(prompt = 'Please input your client secret here:')\n",
    "        username = input(prompt='Please input your username here:')\n",
    "        \n",
    "#     password = getpass.getpass(prompt = 'Password: ')\n",
    "    \n",
    "    body_auth = {'grant_type' : 'password', \n",
    "                'client_id' : client_id, \n",
    "                'client_secret' : client_secret, \n",
    "                'username' : username,\n",
    "                'password' : password,\n",
    "                'platform' : 'uw-ipynb'}\n",
    "    res = requests.post(endpoint_auth, data=body_auth)\n",
    "    auth_json = res.json()\n",
    "    access_token = auth_json['access_token']\n",
    "else:\n",
    "    print('Invalid credential type! Use TEMP, LOCAL, or CLOUD. See the instructions above.')"
   ]
  },
  {
   "cell_type": "markdown",
   "metadata": {},
   "source": [
    "## Making an API Query\n",
    "\n",
    "We will use the function defined in the previous example to generate an API query to request XBRL data from XBRL US.\n",
    "\n",
    "The Python function below generates a query to XBRL US and returns results in a tabular format. The function has the following input arguments:\n",
    "\n",
    "- access_token - the token we generated in the previous step;\n",
    "- firm_ciks - a list of company central index keys (CIKs);\n",
    "- years - a list of data years (time period);\n",
    "- report_types - a list of report types to consider (e.g., 10-K or 10-Q);\n",
    "- get extensions - has to be set to either:\n",
    "    - 'FALSE' - output XBRL elements that are not extensions;\n",
    "    - 'TRUE' - output only extension XBRL. The argument xbrl_elements list will be ignored;\n",
    "- xbrl_elements - a list of XBRL elements (e.g., NetIncomeLoss for net income). This list will be ignored if get_extensions is set to 'TRUE';\n",
    "- with_dimensions - has to be set to either:\n",
    "    - 'FALSE' - output XBRL elements *without* dimensions only;\n",
    "    - 'TRUE' - output XBRL elements *with* dimensions only;\n",
    "    - 'ALL' - output XBRL elements *with* and *without* dimensions;"
   ]
  },
  {
   "cell_type": "code",
   "execution_count": null,
   "metadata": {},
   "outputs": [],
   "source": [
    "def execute_query(access_token, firm_ciks, years, report_types, get_extensions, xbrl_elements, with_dimensions):\n",
    "    \n",
    "    # below is fields (variable) to be output by XBRL US API. \n",
    "    # this list can be modified if other/additional information is needed\n",
    "    # see XBRL US API documentation for a list of all possible fields\n",
    "    fields = ['entity.cik',\n",
    "         'entity.name.sort(ASC)',\n",
    "         'period.fiscal-year',\n",
    "         'report.document-type',\n",
    "         'report.filing-date',\n",
    "         'concept.local-name',\n",
    "         'fact.value',\n",
    "         'dimensions.count', \n",
    "         'dimension.local-name.sort(ASC)',\n",
    "         'member.local-name',\n",
    "         'dts.id',\n",
    "         'fact.id',\n",
    "         'fact.has-dimensions'\n",
    "         'period.instant',\n",
    "         'concept.id',     \n",
    "         'unit',\n",
    "         'fact.decimals',\n",
    "         'dimension.namespace',\n",
    "         'member.namespace',\n",
    "         ]\n",
    "    \n",
    "    search_endpoint = 'https://api.xbrl.us/api/v1/fact/search'\n",
    "\n",
    "\n",
    "    params = {  \n",
    "         'period.fiscal-period': 'Y',\n",
    "         'period.fiscal-year': ','.join(years),\n",
    "         'unit': 'USD',\n",
    "         'entity.cik': ','.join(firm_ciks),\n",
    "         'report.document-type': ','.join(report_types)\n",
    "         }  \n",
    "    \n",
    "    if get_extensions == 'TRUE':\n",
    "        params['concept.is-base'] = 'FALSE'\n",
    "    else:\n",
    "        params['concept.local-name'] =  ','.join(xbrl_elements)\n",
    "    \n",
    "    if with_dimensions == 'ALL':\n",
    "        dimension_options = ['TRUE', 'FALSE']\n",
    "    else:\n",
    "        dimension_options = [with_dimensions]\n",
    "\n",
    "    all_res_list = []\n",
    "    for dimensions_param in dimension_options:\n",
    "        print('Getting the data for: \"fact.has-dimensions\" = {}'.format(dimensions_param))\n",
    "        ### Every request will return a max of 2000 results. So we loop until all results are retrieved. \n",
    "        done_retrieving_all_results = False\n",
    "        offset = 0\n",
    "        while not done_retrieving_all_results:\n",
    "            params['fact.has-dimensions'] = dimensions_param\n",
    "            params['fields'] = ','.join(fields) + ',fact.offset({})'.format(offset) \n",
    "            res = requests.get(search_endpoint, params=params, headers={'Authorization' : 'Bearer {}'.format(access_token)})\n",
    "\n",
    "            ## Interpret as JSON\n",
    "            res_json = res.json()\n",
    "\n",
    "            ## Get the results\n",
    "            ### Retrieve the data list\n",
    "            res_list = res_json['data']\n",
    "\n",
    "            ### Add to the results\n",
    "            all_res_list += res_list\n",
    "\n",
    "            ## Pagination check\n",
    "            paging_dict = res_json['paging']\n",
    "            if paging_dict['count'] >= 2000:\n",
    "                offset += paging_dict['count']\n",
    "            else:\n",
    "                done_retrieving_all_results = True\n",
    "\n",
    "    ## convert to a DataFrame\n",
    "    res_df = pd.DataFrame(all_res_list)\n",
    "    ## remove duplicates; sometimes the same item is reported multiple times throughout the document\n",
    "    res_df.drop_duplicates(subset = ['entity.name','period.fiscal-year', 'report.filing-date', 'concept.local-name', 'dimension.local-name', 'member.local-name', 'fact.value'], inplace = True)\n",
    "    ## sort data\n",
    "    res_df = res_df.sort_values(by=['entity.name','period.fiscal-year','report.filing-date','concept.local-name','dimension.local-name']).reset_index(drop = True)\n",
    "    ## reorder table columns\n",
    "    first_columns = ['entity.name', 'period.fiscal-year', 'report.filing-date', 'concept.local-name', 'fact.value', 'unit','dimension.local-name', 'member.local-name','dimensions.count']\n",
    "    columns = first_columns + [c for c in res_df.columns if c not in first_columns]\n",
    "    res_df = res_df[columns]\n",
    "    print('\\nNumber of results that meet the criteria: {}'.format(len(res_df)))\n",
    "\n",
    "    return res_df"
   ]
  },
  {
   "cell_type": "markdown",
   "metadata": {},
   "source": [
    "## Example: Getting Revenue related to Services from XBRL 10-K filings\n",
    "\n",
    "XBRL reporting format allows extraction of granular data from firms' financial statements. Below, we demonstrate how to extract data on Revenues that pertains to services (i.e., and not related to products, leases, etc.)."
   ]
  },
  {
   "cell_type": "markdown",
   "metadata": {},
   "source": [
    "### Define the companies you'd like\n",
    "\n",
    "We will consider three firms for this example."
   ]
  },
  {
   "cell_type": "code",
   "execution_count": null,
   "metadata": {},
   "outputs": [],
   "source": [
    "firm_ciks =     [\n",
    "                 '0000320193', ## Apple (AAPL)  \n",
    "                 '0001067983', ## Berkshire Hathaway(BRK)\n",
    "                 '0001318605', ## Tesla (TSLA)\n",
    "                ]"
   ]
  },
  {
   "cell_type": "markdown",
   "metadata": {},
   "source": [
    "### Define the years you'd like"
   ]
  },
  {
   "cell_type": "code",
   "execution_count": null,
   "metadata": {},
   "outputs": [],
   "source": [
    "years = ['2020'] ## Use commas between for multiple years, e.g., '2018','2019','2020'\n",
    "#years = [str(2013 + i) for i in range(8)] ## Years 2013 to 2020"
   ]
  },
  {
   "cell_type": "markdown",
   "metadata": {},
   "source": [
    "### Specify whether to output extension XBRL elements"
   ]
  },
  {
   "cell_type": "code",
   "execution_count": null,
   "metadata": {},
   "outputs": [],
   "source": [
    "get_extensions = 'FALSE'"
   ]
  },
  {
   "cell_type": "markdown",
   "metadata": {},
   "source": [
    "### Specify the report types that you want"
   ]
  },
  {
   "cell_type": "code",
   "execution_count": null,
   "metadata": {},
   "outputs": [],
   "source": [
    "report_types = ['10-K', '10-K/A']"
   ]
  },
  {
   "cell_type": "markdown",
   "metadata": {},
   "source": [
    "### Define the XBRL elements (tags) you'd like \n",
    "\n",
    "Revenue from services is typically reported using the new standard (Accounting Standards Update No. 2014-09, *Revenue from Contracts with Customers* (Topic 606)). As before, we will use the *RevenueFromContractWithCustomerExcludingAssessedTax* and *RevenueFromContractWithCustomerIncludingAssessedTax* concepts from FASB's XBRL Financial Reporting Taxonomy."
   ]
  },
  {
   "cell_type": "code",
   "execution_count": null,
   "metadata": {},
   "outputs": [],
   "source": [
    "xbrl_elements = [\n",
    "     'RevenueFromContractWithCustomerExcludingAssessedTax',\n",
    "     'RevenueFromContractWithCustomerIncludingAssessedTax'\n",
    "                ]"
   ]
  },
  {
   "cell_type": "markdown",
   "metadata": {},
   "source": [
    "### Specify if you want dimensions, no dimension, or all values\n",
    "\n",
    "Unlike the previous example where the objective was to extract Total Revenue data, this time we want to focus on a component of Total Revenue: Revenue from Services. Revenue from Services (and other Revenue items) are typically reported using XBRL dimensions that specify that the scope of the revenue-related concept is services only. Therefore, this time we will request XBRL data with dimensions."
   ]
  },
  {
   "cell_type": "code",
   "execution_count": null,
   "metadata": {},
   "outputs": [],
   "source": [
    "with_dimensions = 'TRUE'  ## TRUE for require dimensions, FALSE for no dimensions, ALL for all values"
   ]
  },
  {
   "cell_type": "markdown",
   "metadata": {},
   "source": [
    "### Execute query\n",
    "\n",
    "Let us execute an XBRL US API query to retrieve Revenue from Contract With Customers concepts with dimensions. The result will be saved to *res_df* pandas dataframe."
   ]
  },
  {
   "cell_type": "code",
   "execution_count": null,
   "metadata": {},
   "outputs": [],
   "source": [
    "res_df = execute_query(access_token, firm_ciks, years, report_types, get_extensions, xbrl_elements, with_dimensions)"
   ]
  },
  {
   "cell_type": "markdown",
   "metadata": {},
   "source": [
    "### Display results\n",
    "\n",
    "Next, we will output the results. To facilitate table display, we will \"hide\" some columns when displaying the results and limit the output to 40 records. Note that this time we will have more records in the output of the query because we requested concepts with dimensions."
   ]
  },
  {
   "cell_type": "code",
   "execution_count": null,
   "metadata": {},
   "outputs": [],
   "source": [
    "#choose which columns to hide\n",
    "columns_to_hide = ['entity.cik', 'fact.decimals', 'dimension.namespace', 'member.namespace']\n",
    "columns_to_show = [column for column in res_df.columns if column not in columns_to_hide]\n",
    "\n",
    "#display the first 40 results\n",
    "res_df[columns_to_show].head(40)"
   ]
  },
  {
   "cell_type": "markdown",
   "metadata": {},
   "source": [
    "### Filtering results on the values of dimensions\n",
    "\n",
    "In the table above, Revenues from Services are reported using Revenue From Contract With Customers concepts with the following dimension: *ProductOrServiceAxis* axis having *ServiceMember* member. Therefore, we can simply filter the results to include that specific dimension:\n",
    "\n"
   ]
  },
  {
   "cell_type": "code",
   "execution_count": null,
   "metadata": {},
   "outputs": [],
   "source": [
    "# filter results\n",
    "res_df_filtered = res_df[(res_df['dimension.local-name'] == 'ProductOrServiceAxis') \n",
    "                         & (res_df['member.local-name'] == 'ServiceMember')]\n",
    "\n",
    "# display the first 40 results\n",
    "res_df_filtered[columns_to_show].head(40)"
   ]
  },
  {
   "cell_type": "markdown",
   "metadata": {},
   "source": [
    "For the three firms in our example, Apple, Berkshire Hathaway, and Tesla, we were able to extract one Revenue from Services item for Apple, multiple items for Berkshire Hathaway, and no items for Tesla. \n",
    "\n",
    "First, let us consider the case of Berkshire Hathaway. Variable *fact.id* in the above table is a unique identifier of a reported fact in an XBRL document. To see the details about the fact in the second record from the table above, we can simply filter the main results table, res_df, to only include records with the *fact.id* of 256371762."
   ]
  },
  {
   "cell_type": "code",
   "execution_count": null,
   "metadata": {},
   "outputs": [],
   "source": [
    "res_df[res_df['fact.id'] == 256371762]"
   ]
  },
  {
   "cell_type": "markdown",
   "metadata": {},
   "source": [
    "It appears that the Revenue from Services concept with the *fact.id* of 256371762 actually has two dimensions: one to indicate that this is revenue from services, and the other one to indicate that it is related to the energy business segment (only). The variable *dimensions.count* reports the number of dimensions a given fact has, which is equal to two in this case. Therefore, to extract Revenue from Services across all business segments, we simply need to identify the Revenue from Services that has only one dimension (i.e., the dimension to specify that the given revenue item is related to services)."
   ]
  },
  {
   "cell_type": "code",
   "execution_count": null,
   "metadata": {},
   "outputs": [],
   "source": [
    "# filter on dimension value and dimension count\n",
    "res_df_filtered = res_df[(res_df['dimension.local-name'] == 'ProductOrServiceAxis') & (res_df['member.local-name'] == 'ServiceMember') & (res_df['dimensions.count'] == 1)]\n",
    "\n",
    "# display the first 40 results\n",
    "res_df_filtered[columns_to_show].head(40)"
   ]
  },
  {
   "cell_type": "markdown",
   "metadata": {},
   "source": [
    "Now, let us consider the Income Statement from Tesla's fiscal year 2020 10-K filing:\n",
    "\n",
    "https://www.sec.gov/ix?doc=/Archives/edgar/data/1318605/000156459021004599/tsla-10k_20201231.htm\n",
    "\n",
    "Tesla's Total Revenues of \\\\$31,536m is comprised of four items represented by the following XBRL facts:\n",
    "\n",
    "- Automative sales, \\\\$26,184m (*RevenueFromContractWithCustomerExcludingAssessedTax* with *tsla:AutomotiveSegmentMember* extension member in product/service axis (dimension));\n",
    "- Automotive leasing, \\\\$1,052m (*OperatingLeasesIncomeStatementLeaseRevenue*);\n",
    "- Energy generation and storage, \\\\$1,994m (*RevenueFromContractWithCustomerExcludingAssessedTax* with *tsla:EnergyGenerationAndStorageSegmentMember* extension member in product/service axis (dimension));\n",
    "- Services and other, \\\\$2,306m (*tsla:SalesRevenueServicesAndOtherNet* (extension XBRL element));\n",
    "\n",
    "The Revenue from Services is bundled with Other Revenue and is reported using a (custom) **XBRL extension concept**, *tsla:SalesRevenueServicesAndOtherNet*. \n",
    "\n",
    "Therefore, to extract this revenue item, we have to search for an extension XBRL concept that contains keywords such as \"Revenue\" and \"Service\" in its label. First, we will extract all extension concepts from the filings."
   ]
  },
  {
   "cell_type": "code",
   "execution_count": null,
   "metadata": {},
   "outputs": [],
   "source": [
    "# change get_extensions to 'TRUE'\n",
    "get_extensions = 'TRUE'\n",
    "\n",
    "# in most cases for Revenue from Services, we don't need to consider dimensions if extensions are used instead; however, this will largely depend on the concept of interest and individual firm's reporting practices\n",
    "with_dimensions = 'FALSE'\n",
    "\n",
    "res_df_extensions = execute_query(access_token, firm_ciks, years, report_types, get_extensions, xbrl_elements, with_dimensions)\n",
    "\n",
    "#display the first 40 results\n",
    "res_df_extensions[columns_to_show].head(40)"
   ]
  },
  {
   "cell_type": "markdown",
   "metadata": {},
   "source": [
    "Now we can filter extension elements by searching for keywords in their labels"
   ]
  },
  {
   "cell_type": "code",
   "execution_count": null,
   "metadata": {},
   "outputs": [],
   "source": [
    "# keep only extensions that include words 'Service' and 'Revenue' in their element names\n",
    "res_df_keywords = res_df_extensions[res_df_extensions['concept.local-name'].str.contains('Service') \\\n",
    "                  & res_df_extensions['concept.local-name'].str.contains('Revenue')]\n",
    "\n",
    "res_df_keywords[columns_to_show].head(40)"
   ]
  },
  {
   "cell_type": "markdown",
   "metadata": {},
   "source": [
    "### Merge results and output them to csv\n",
    "\n",
    "Finally, we can merge results of a queries with standard and extensions XBRL concepts into one table and save the results to a CSV file."
   ]
  },
  {
   "cell_type": "code",
   "execution_count": null,
   "metadata": {},
   "outputs": [],
   "source": [
    "output_df"
   ]
  },
  {
   "cell_type": "code",
   "execution_count": null,
   "metadata": {},
   "outputs": [],
   "source": [
    "# merge results\n",
    "output_df = pd.concat([res_df_filtered,res_df_keywords])\n",
    "\n",
    "# save to the CSV format\n",
    "output_df.to_csv('XBRL_Revenues_from_Services.csv')     \n",
    "\n",
    "## If running in Binder, click on the Jupyter icon/name in the upper left corner to see your files, \n",
    "## select the file you want, and click Download."
   ]
  }
 ],
 "metadata": {
  "kernelspec": {
   "display_name": "Python 3",
   "language": "python",
   "name": "python3"
  },
  "language_info": {
   "codemirror_mode": {
    "name": "ipython",
    "version": 3
   },
   "file_extension": ".py",
   "mimetype": "text/x-python",
   "name": "python",
   "nbconvert_exporter": "python",
   "pygments_lexer": "ipython3",
   "version": "3.7.6"
  }
 },
 "nbformat": 4,
 "nbformat_minor": 4
}
